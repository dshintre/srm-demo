{
 "cells": [
  {
   "cell_type": "code",
   "execution_count": 1,
   "id": "c3a22a4d-f833-4433-91de-756f090ea986",
   "metadata": {},
   "outputs": [],
   "source": [
    "import numpy as np\n",
    "import matplotlib.pyplot as plt\n",
    "from scipy import stats\n",
    "from itertools import product\n",
    "import pandas as pd\n",
    "\n",
    "# set simulation variables\n",
    "n_samples = 1000000\n",
    "AB_test_size = 200\n",
    "AB_simulation_size = 100\n",
    "\n",
    "control_mean = 1.2\n",
    "var = 0.05"
   ]
  },
  {
   "cell_type": "code",
   "execution_count": 2,
   "id": "da78de8a-7656-4968-be5f-ecf4a01e70e5",
   "metadata": {},
   "outputs": [],
   "source": [
    "def simulate_ab_test(figname,uplift = 1.0, seed = 20, conclusion = ''):\n",
    "    np.random.seed(seed)\n",
    "    control_data = np.random.normal(loc = control_mean, scale = var, size = n_samples)\n",
    "    test_data = np.random.normal(loc = control_mean*uplift, scale = var, size = n_samples)\n",
    "\n",
    "    p_val_dict  = {'80_20':[],'50_50':[]}\n",
    "    \n",
    "    \n",
    "    for _,variation in product(range(AB_simulation_size),['80_20','50_50']):\n",
    "        mf = 0.8 if variation == '80_20' else 0.5\n",
    "        control_size = int(AB_test_size*mf)\n",
    "        ab_control = np.random.choice(control_data,size=control_size,replace=False)\n",
    "        ab_test = np.random.choice(test_data,size=AB_test_size - control_size,replace=False)\n",
    "        t_stat,p_val = stats.ttest_ind(ab_control,ab_test)\n",
    "        p_val_dict[variation].append(p_val)\n",
    "    \n",
    "    significance_80_20 = np.sum(pd.DataFrame(p_val_dict)['80_20']<0.05)/AB_simulation_size\n",
    "    significance_50_50 = np.sum(pd.DataFrame(p_val_dict)['50_50']<0.05)/AB_simulation_size\n",
    "    \n",
    "    \n",
    "    fig,(ax1,ax2) = plt.subplots(1,2,figsize = (12,5))\n",
    "    \n",
    "    ax1.hist(control_data,bins=30,density=True,alpha=0.6,color = 'b', label='Control Data')\n",
    "    ax1.hist(test_data,bins=30,density=True,alpha=0.6,color = 'r', label='Test Data')\n",
    "    \n",
    "    ax1.set_title(f'Actual Distribution for Control Mean = {control_mean:0.2f}% and Test Mean = {control_mean*uplift:0.2f}%')\n",
    "    ax1.set_xlabel('Click Rate')\n",
    "    ax1.set_ylabel('Frequency')\n",
    "    ax1.legend()\n",
    "    \n",
    "    \n",
    "    \n",
    "    ax2.hist(p_val_dict['80_20'],bins=30,density=True,alpha=0.6,color = 'b', label='80-20 Split')\n",
    "    ax2.hist(p_val_dict['50_50'],bins=30,density=True,alpha=0.6,color = 'r', label='50-50 Split')\n",
    "    \n",
    "    ax2.set_title(f'Significance rate for 80/20 Split is {significance_80_20:.0%} and for 50/50 Split it is {significance_50_50:.0%}.')\n",
    "    ax2.set_xlabel('P Values')\n",
    "    ax2.set_ylabel('Frequency')\n",
    "    \n",
    "    ax2.legend()\n",
    "    fig.suptitle(f'For {uplift-1:.0%} uplift in mean: '+ conclusion)\n",
    "    plt.tight_layout()\n",
    "    plt.savefig(figname)\n",
    "    plt.show()"
   ]
  },
  {
   "cell_type": "code",
   "execution_count": null,
   "id": "93a8d925-3a73-4bb2-b95b-ffb08613e234",
   "metadata": {},
   "outputs": [],
   "source": [
    "simulate_ab_test(figname='type2-positive.png',uplift=1.01,seed=220,conclusion=\"Biased sampling would lead to reduced significance detection rate. (Increase in Type II error)\")"
   ]
  },
  {
   "cell_type": "code",
   "execution_count": null,
   "id": "16455ac2-5455-405e-8788-e313cf8ead83",
   "metadata": {},
   "outputs": [],
   "source": [
    "simulate_ab_test(figname='type2-negative.png',uplift=0.99,seed=220,conclusion=\"Biased sampling would lead to reduced significance detection rate. (Increase in Type II error)\")"
   ]
  },
  {
   "cell_type": "code",
   "execution_count": null,
   "id": "38f5d1bf-dff5-44fa-9799-c1b045538375",
   "metadata": {},
   "outputs": [],
   "source": [
    "simulate_ab_test(figname='type1.png',uplift=1.0,seed=20,conclusion=\"Biased sampling would lead to increased false significance detection chances. (Increase in Type I error)\")"
   ]
  }
 ],
 "metadata": {
  "kernelspec": {
   "display_name": "srm",
   "language": "python",
   "name": "srm"
  },
  "language_info": {
   "codemirror_mode": {
    "name": "ipython",
    "version": 3
   },
   "file_extension": ".py",
   "mimetype": "text/x-python",
   "name": "python",
   "nbconvert_exporter": "python",
   "pygments_lexer": "ipython3",
   "version": "3.13.2"
  }
 },
 "nbformat": 4,
 "nbformat_minor": 5
}
